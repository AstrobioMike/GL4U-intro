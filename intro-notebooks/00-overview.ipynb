{
 "cells": [
  {
   "cell_type": "markdown",
   "id": "72030809-0cca-406b-acce-34dd71d9bddb",
   "metadata": {
    "deletable": false,
    "editable": false,
    "tags": []
   },
   "source": [
    "<hr style=\"height:0px; visibility:hidden;\" />\n",
    "\n",
    "<h1><center>Welcome to the GL4U Introductory Notebooks!</center></h1>\n",
    "\n",
    "<div class=\"alert alert-block alert-success\">\n",
    "Regardless of which data-type-specific GL4U module you might be interested in, it will help a lot to have a little familiarity the core topics and foundational skills covered in these 4 introductory notebooks. 🙂\n",
    "\n",
    "</div>\n",
    "\n",
    "1. [Jupyter introduction](01-jupyter-intro.ipynb)\n",
    "2. [Unix introduction](02-unix-intro.ipynb)\n",
    "3. [R introduction](03-R-intro.ipynb)\n",
    "4. [Sequencing data QC](04-sequencing-data-QC.ipynb)\n",
    "\n",
    "---\n",
    "---"
   ]
  }
 ],
 "metadata": {
  "kernelspec": {
   "display_name": "Python 3 (ipykernel)",
   "language": "python",
   "name": "python3"
  },
  "language_info": {
   "codemirror_mode": {
    "name": "ipython",
    "version": 3
   },
   "file_extension": ".py",
   "mimetype": "text/x-python",
   "name": "python",
   "nbconvert_exporter": "python",
   "pygments_lexer": "ipython3",
   "version": "3.11.0"
  }
 },
 "nbformat": 4,
 "nbformat_minor": 5
}
